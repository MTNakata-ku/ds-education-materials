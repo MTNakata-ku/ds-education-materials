{
 "cells": [
  {
   "cell_type": "code",
   "execution_count": 2,
   "id": "7b05ef37",
   "metadata": {},
   "outputs": [],
   "source": [
    "import numpy as np\n",
    "import matplotlib.pyplot as plt\n",
    "import seaborn as sns\n",
    "from datetime import datetime\n",
    "import os"
   ]
  },
  {
   "cell_type": "code",
   "execution_count": 3,
   "id": "880f9e64",
   "metadata": {},
   "outputs": [],
   "source": [
    "os.makedirs(\"cos_images\",exist_ok=True)\n",
    "os.makedirs(\"sin_images\",exist_ok=True)"
   ]
  },
  {
   "cell_type": "code",
   "execution_count": null,
   "id": "c0ce9b6b",
   "metadata": {},
   "outputs": [],
   "source": [
    "theta = np.linspace(0,np.pi*2,1000)\n",
    "x = np.cos(theta)\n",
    "y = np.sin(theta)"
   ]
  },
  {
   "cell_type": "code",
   "execution_count": null,
   "id": "df1a8fea",
   "metadata": {},
   "outputs": [],
   "source": [
    "sns.set_style(\"whitegrid\")\n",
    "plt.rcParams[\"font.size\"] = 16\n",
    "\n",
    "for i in range(1000):\n",
    "    if i%50==0:\n",
    "        print(f\"{i}/1000 {datetime.now()}\")\n",
    "    fig = plt.figure(figsize=(16,5.5))\n",
    "\n",
    "    ax = fig.add_axes([0.0, 0.1, 0.27, 0.8])\n",
    "\n",
    "    ax.plot(x,y,\"k\")\n",
    "    ax.axis(\"equal\")\n",
    "    ax.hlines(0,-1.2,1.2,colors=\"k\",linestyles=\"dotted\")\n",
    "    ax.vlines(0,-1.2,1.2,colors=\"k\",linestyles=\"dotted\")\n",
    "    ax.set_xlim(-1.2,1.2)\n",
    "    ax.set_ylim(-1.2,1.2)\n",
    "\n",
    "    ax.plot([0,x[i]],[0,y[i]],\"k\",lw=6)\n",
    "    ax.plot([0,x[i]],[0,0],\"m\",lw=6)\n",
    "    ax.plot([x[i],x[i]],[0,y[i]],\"k\",lw=2,ls=\"dotted\")\n",
    "\n",
    "    ax = fig.add_axes([0.35, 0.1, 0.63, 0.8])\n",
    "\n",
    "    ax.plot(np.degrees(theta),x,\"k\")\n",
    "    ax.set_xlim(0,360)\n",
    "    ax.set_ylim(-1.2,1.2)\n",
    "    ax.set_xlabel(r\"$\\theta$ (°)\")\n",
    "    ax.set_ylabel(r\"$\\cos(\\theta)$\")\n",
    "\n",
    "    ax.scatter(np.degrees(theta[i]),x[i],color=\"m\",marker=\"o\",s=200)\n",
    "    ax.plot([np.degrees(theta[i]),np.degrees(theta[i])],[0,x[i]],\"m\",lw=3)\n",
    "    ax.set_xlim(0,360)\n",
    "    ax.set_xticks(np.arange(0,365,45))\n",
    "\n",
    "    fig.savefig(f\"cos_images/{i:05d}.png\",dpi=150,bbox_inches=\"tight\")\n",
    "    plt.close()"
   ]
  },
  {
   "cell_type": "code",
   "execution_count": null,
   "id": "cd4a915b",
   "metadata": {},
   "outputs": [],
   "source": [
    "sns.set_style(\"whitegrid\")\n",
    "plt.rcParams[\"font.size\"] = 16\n",
    "\n",
    "for i in range(1000):\n",
    "    if i%50==0:\n",
    "        print(f\"{i}/1000 {datetime.now()}\")\n",
    "    fig = plt.figure(figsize=(16,5.5))\n",
    "\n",
    "    ax = fig.add_axes([0.0, 0.1, 0.27, 0.8])\n",
    "\n",
    "    ax.plot(x,y,\"k\")\n",
    "    ax.axis(\"equal\")\n",
    "    ax.hlines(0,-1.2,1.2,colors=\"k\",linestyles=\"dotted\")\n",
    "    ax.vlines(0,-1.2,1.2,colors=\"k\",linestyles=\"dotted\")\n",
    "    ax.set_xlim(-1.2,1.2)\n",
    "    ax.set_ylim(-1.2,1.2)\n",
    "\n",
    "    ax.plot([0,x[i]],[0,y[i]],\"k\",lw=6)\n",
    "    ax.plot([0,0],[0,y[i]],\"c\",lw=6)\n",
    "    ax.plot([0,x[i]],[y[i],y[i]],\"k\",lw=2,ls=\"dotted\")\n",
    "\n",
    "    ax = fig.add_axes([0.35, 0.1, 0.63, 0.8])\n",
    "\n",
    "    ax.plot(np.degrees(theta),y,\"k\")\n",
    "    ax.set_xlim(0,360)\n",
    "    ax.set_ylim(-1.2,1.2)\n",
    "    ax.set_xlabel(r\"$\\theta$ (°)\")\n",
    "    ax.set_ylabel(r\"$\\sin(\\theta)$\")\n",
    "\n",
    "    ax.scatter(np.degrees(theta[i]),y[i],color=\"c\",marker=\"o\",s=200)\n",
    "    ax.plot([np.degrees(theta[i]),np.degrees(theta[i])],[0,y[i]],\"c\",lw=3)\n",
    "    ax.set_xlim(0,360)\n",
    "    ax.set_xticks(np.arange(0,365,45))\n",
    "\n",
    "    fig.savefig(f\"sin_images/{i:05d}.png\",dpi=150,bbox_inches=\"tight\")\n",
    "    plt.close()"
   ]
  }
 ],
 "metadata": {
  "kernelspec": {
   "display_name": "test_env",
   "language": "python",
   "name": "python3"
  },
  "language_info": {
   "codemirror_mode": {
    "name": "ipython",
    "version": 3
   },
   "file_extension": ".py",
   "mimetype": "text/x-python",
   "name": "python",
   "nbconvert_exporter": "python",
   "pygments_lexer": "ipython3",
   "version": "3.11.0"
  }
 },
 "nbformat": 4,
 "nbformat_minor": 5
}
